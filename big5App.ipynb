{
 "cells": [
  {
   "cell_type": "code",
   "execution_count": 3,
   "metadata": {},
   "outputs": [],
   "source": [
    "#hide\n",
    "# !pip install -Uqq fastbook\n",
    "import fastbook\n",
    "fastbook.setup_book()"
   ]
  },
  {
   "cell_type": "code",
   "execution_count": 4,
   "metadata": {
    "colab": {
     "base_uri": "https://localhost:8080/"
    },
    "id": "kBZy0XqCO34q",
    "outputId": "af6737d1-2d22-42d4-a6c7-db2cc1c1f514"
   },
   "outputs": [],
   "source": [
    "#hide!pip install -Uqq fastbook\n",
    "import fastbook\n",
    "fastbook.setup_book()"
   ]
  },
  {
   "cell_type": "code",
   "execution_count": 5,
   "metadata": {
    "id": "kiXlSAyiQnkt"
   },
   "outputs": [],
   "source": [
    "# pip install  torch==1.8.0"
   ]
  },
  {
   "cell_type": "code",
   "execution_count": 6,
   "metadata": {
    "id": "apUxWEV1_ONa"
   },
   "outputs": [],
   "source": [
    "#hide\n",
    "from fastbook import *\n",
    "from fastai.vision.widgets import *"
   ]
  },
  {
   "cell_type": "code",
   "execution_count": 7,
   "metadata": {
    "id": "0n_j7QpU9cYA"
   },
   "outputs": [],
   "source": [
    "from fastai.vision.widgets import *"
   ]
  },
  {
   "cell_type": "markdown",
   "metadata": {
    "id": "2efKNUjt_OOV"
   },
   "source": [
    "You'll need this file wherever you deploy your app to. For now, let's try to create a simple app within our notebook.\n",
    "\n",
    "When we use a model for getting predictions, instead of training, we call it *inference*. To create our inference learner from the exported file, we use `load_learner` (in this case, this isn't really necessary, since we already have a working `Learner` in our notebook; we're just doing it here so you can see the whole process end-to-end):"
   ]
  },
  {
   "cell_type": "code",
   "execution_count": 8,
   "metadata": {
    "id": "JjGC5Lna_OOV"
   },
   "outputs": [],
   "source": [
    "learn_inf = load_learner( 'model_export.pkl')"
   ]
  },
  {
   "cell_type": "code",
   "execution_count": 9,
   "metadata": {
    "colab": {
     "base_uri": "https://localhost:8080/"
    },
    "id": "E-MzdKVsk-xg",
    "outputId": "de6d9e5c-4e93-4189-a08b-b3ea5d67b409"
   },
   "outputs": [
    {
     "data": {
      "text/plain": [
       "(#6) [Path('.git'),Path('.ipynb_checkpoints'),Path('big5ModelBuilderV4 (1).ipynb'),Path('README.md'),Path('big5App.ipynb'),Path('model_export.pkl')]"
      ]
     },
     "execution_count": 9,
     "metadata": {},
     "output_type": "execute_result"
    }
   ],
   "source": [
    "path = Path()\n",
    "path.ls()\n",
    "\n"
   ]
  },
  {
   "cell_type": "code",
   "execution_count": 10,
   "metadata": {
    "colab": {
     "base_uri": "https://localhost:8080/"
    },
    "id": "ojgKjEKK_OOX",
    "outputId": "d4a69fbc-a58c-4a8a-b942-c490af19ba36"
   },
   "outputs": [
    {
     "data": {
      "text/plain": [
       "['african buffalo', 'elephant', 'leopard', 'lion', 'rhinoceros ']"
      ]
     },
     "execution_count": 10,
     "metadata": {},
     "output_type": "execute_result"
    }
   ],
   "source": [
    "learn_inf.dls.vocab"
   ]
  },
  {
   "cell_type": "markdown",
   "metadata": {
    "id": "23Y3QCXx_OOY"
   },
   "source": [
    "### Creating a Notebook App from the Model"
   ]
  },
  {
   "cell_type": "code",
   "execution_count": null,
   "metadata": {
    "colab": {
     "base_uri": "https://localhost:8080/",
     "height": 49,
     "referenced_widgets": [
      "702e52273d124689935a9b152bb0c007",
      "d6e5d0e7e17b42d083139a7ddc97d90b",
      "0349706381e143b68fe5b428d9044a79"
     ]
    },
    "id": "SMX4RCWE_OOZ",
    "outputId": "36acaa36-1d47-47e6-f548-e8d55fcd9527"
   },
   "outputs": [
    {
     "data": {
      "application/vnd.jupyter.widget-view+json": {
       "model_id": "702e52273d124689935a9b152bb0c007",
       "version_major": 2,
       "version_minor": 0
      },
      "text/plain": [
       "FileUpload(value={}, description='Upload')"
      ]
     },
     "metadata": {
      "tags": []
     },
     "output_type": "display_data"
    }
   ],
   "source": [
    "#hide_output\n",
    "btn_upload = widgets.FileUpload()\n",
    "btn_upload"
   ]
  },
  {
   "cell_type": "markdown",
   "metadata": {
    "id": "vq1NwS1a_OOa"
   },
   "source": [
    "<img alt=\"An upload button\" width=\"159\" src=\"images/att_00008.png\">\n",
    "\n",
    "Now we can grab the image:"
   ]
  },
  {
   "cell_type": "code",
   "execution_count": null,
   "metadata": {
    "colab": {
     "base_uri": "https://localhost:8080/",
     "height": 363
    },
    "id": "rSBMidXu_OOb",
    "outputId": "c1fb5a71-aa56-46a6-8eee-25ce62fd2a38"
   },
   "outputs": [
    {
     "ename": "FileNotFoundError",
     "evalue": "ignored",
     "output_type": "error",
     "traceback": [
      "\u001b[0;31m---------------------------------------------------------------------------\u001b[0m",
      "\u001b[0;31mFileNotFoundError\u001b[0m                         Traceback (most recent call last)",
      "\u001b[0;32m<ipython-input-40-82db33b3197c>\u001b[0m in \u001b[0;36m<module>\u001b[0;34m()\u001b[0m\n\u001b[0;32m----> 1\u001b[0;31m \u001b[0mimg\u001b[0m \u001b[0;34m=\u001b[0m \u001b[0mPILImage\u001b[0m\u001b[0;34m.\u001b[0m\u001b[0mcreate\u001b[0m\u001b[0;34m(\u001b[0m\u001b[0mbtn_upload\u001b[0m\u001b[0;34m.\u001b[0m\u001b[0mdata\u001b[0m\u001b[0;34m[\u001b[0m\u001b[0;34m-\u001b[0m\u001b[0;36m1\u001b[0m\u001b[0;34m]\u001b[0m\u001b[0;34m)\u001b[0m\u001b[0;34m\u001b[0m\u001b[0;34m\u001b[0m\u001b[0m\n\u001b[0m",
      "\u001b[0;32m/usr/local/lib/python3.7/dist-packages/fastai/vision/core.py\u001b[0m in \u001b[0;36mcreate\u001b[0;34m(cls, fn, **kwargs)\u001b[0m\n\u001b[1;32m    108\u001b[0m         \u001b[0;32mif\u001b[0m \u001b[0misinstance\u001b[0m\u001b[0;34m(\u001b[0m\u001b[0mfn\u001b[0m\u001b[0;34m,\u001b[0m\u001b[0mndarray\u001b[0m\u001b[0;34m)\u001b[0m\u001b[0;34m:\u001b[0m \u001b[0;32mreturn\u001b[0m \u001b[0mcls\u001b[0m\u001b[0;34m(\u001b[0m\u001b[0mImage\u001b[0m\u001b[0;34m.\u001b[0m\u001b[0mfromarray\u001b[0m\u001b[0;34m(\u001b[0m\u001b[0mfn\u001b[0m\u001b[0;34m)\u001b[0m\u001b[0;34m)\u001b[0m\u001b[0;34m\u001b[0m\u001b[0;34m\u001b[0m\u001b[0m\n\u001b[1;32m    109\u001b[0m         \u001b[0;32mif\u001b[0m \u001b[0misinstance\u001b[0m\u001b[0;34m(\u001b[0m\u001b[0mfn\u001b[0m\u001b[0;34m,\u001b[0m\u001b[0mbytes\u001b[0m\u001b[0;34m)\u001b[0m\u001b[0;34m:\u001b[0m \u001b[0mfn\u001b[0m \u001b[0;34m=\u001b[0m \u001b[0mio\u001b[0m\u001b[0;34m.\u001b[0m\u001b[0mBytesIO\u001b[0m\u001b[0;34m(\u001b[0m\u001b[0mfn\u001b[0m\u001b[0;34m)\u001b[0m\u001b[0;34m\u001b[0m\u001b[0;34m\u001b[0m\u001b[0m\n\u001b[0;32m--> 110\u001b[0;31m         \u001b[0;32mreturn\u001b[0m \u001b[0mcls\u001b[0m\u001b[0;34m(\u001b[0m\u001b[0mload_image\u001b[0m\u001b[0;34m(\u001b[0m\u001b[0mfn\u001b[0m\u001b[0;34m,\u001b[0m \u001b[0;34m**\u001b[0m\u001b[0mmerge\u001b[0m\u001b[0;34m(\u001b[0m\u001b[0mcls\u001b[0m\u001b[0;34m.\u001b[0m\u001b[0m_open_args\u001b[0m\u001b[0;34m,\u001b[0m \u001b[0mkwargs\u001b[0m\u001b[0;34m)\u001b[0m\u001b[0;34m)\u001b[0m\u001b[0;34m)\u001b[0m\u001b[0;34m\u001b[0m\u001b[0;34m\u001b[0m\u001b[0m\n\u001b[0m\u001b[1;32m    111\u001b[0m \u001b[0;34m\u001b[0m\u001b[0m\n\u001b[1;32m    112\u001b[0m     \u001b[0;32mdef\u001b[0m \u001b[0mshow\u001b[0m\u001b[0;34m(\u001b[0m\u001b[0mself\u001b[0m\u001b[0;34m,\u001b[0m \u001b[0mctx\u001b[0m\u001b[0;34m=\u001b[0m\u001b[0;32mNone\u001b[0m\u001b[0;34m,\u001b[0m \u001b[0;34m**\u001b[0m\u001b[0mkwargs\u001b[0m\u001b[0;34m)\u001b[0m\u001b[0;34m:\u001b[0m\u001b[0;34m\u001b[0m\u001b[0;34m\u001b[0m\u001b[0m\n",
      "\u001b[0;32m/usr/local/lib/python3.7/dist-packages/fastai/vision/core.py\u001b[0m in \u001b[0;36mload_image\u001b[0;34m(fn, mode)\u001b[0m\n\u001b[1;32m     83\u001b[0m \u001b[0;32mdef\u001b[0m \u001b[0mload_image\u001b[0m\u001b[0;34m(\u001b[0m\u001b[0mfn\u001b[0m\u001b[0;34m,\u001b[0m \u001b[0mmode\u001b[0m\u001b[0;34m=\u001b[0m\u001b[0;32mNone\u001b[0m\u001b[0;34m)\u001b[0m\u001b[0;34m:\u001b[0m\u001b[0;34m\u001b[0m\u001b[0;34m\u001b[0m\u001b[0m\n\u001b[1;32m     84\u001b[0m     \u001b[0;34m\"Open and load a `PIL.Image` and convert to `mode`\"\u001b[0m\u001b[0;34m\u001b[0m\u001b[0;34m\u001b[0m\u001b[0m\n\u001b[0;32m---> 85\u001b[0;31m     \u001b[0mim\u001b[0m \u001b[0;34m=\u001b[0m \u001b[0mImage\u001b[0m\u001b[0;34m.\u001b[0m\u001b[0mopen\u001b[0m\u001b[0;34m(\u001b[0m\u001b[0mfn\u001b[0m\u001b[0;34m)\u001b[0m\u001b[0;34m\u001b[0m\u001b[0;34m\u001b[0m\u001b[0m\n\u001b[0m\u001b[1;32m     86\u001b[0m     \u001b[0mim\u001b[0m\u001b[0;34m.\u001b[0m\u001b[0mload\u001b[0m\u001b[0;34m(\u001b[0m\u001b[0;34m)\u001b[0m\u001b[0;34m\u001b[0m\u001b[0;34m\u001b[0m\u001b[0m\n\u001b[1;32m     87\u001b[0m     \u001b[0mim\u001b[0m \u001b[0;34m=\u001b[0m \u001b[0mim\u001b[0m\u001b[0;34m.\u001b[0m\u001b[0m_new\u001b[0m\u001b[0;34m(\u001b[0m\u001b[0mim\u001b[0m\u001b[0;34m.\u001b[0m\u001b[0mim\u001b[0m\u001b[0;34m)\u001b[0m\u001b[0;34m\u001b[0m\u001b[0;34m\u001b[0m\u001b[0m\n",
      "\u001b[0;32m/usr/local/lib/python3.7/dist-packages/PIL/Image.py\u001b[0m in \u001b[0;36mopen\u001b[0;34m(fp, mode)\u001b[0m\n\u001b[1;32m   2807\u001b[0m \u001b[0;34m\u001b[0m\u001b[0m\n\u001b[1;32m   2808\u001b[0m     \u001b[0;32mif\u001b[0m \u001b[0mfilename\u001b[0m\u001b[0;34m:\u001b[0m\u001b[0;34m\u001b[0m\u001b[0;34m\u001b[0m\u001b[0m\n\u001b[0;32m-> 2809\u001b[0;31m         \u001b[0mfp\u001b[0m \u001b[0;34m=\u001b[0m \u001b[0mbuiltins\u001b[0m\u001b[0;34m.\u001b[0m\u001b[0mopen\u001b[0m\u001b[0;34m(\u001b[0m\u001b[0mfilename\u001b[0m\u001b[0;34m,\u001b[0m \u001b[0;34m\"rb\"\u001b[0m\u001b[0;34m)\u001b[0m\u001b[0;34m\u001b[0m\u001b[0;34m\u001b[0m\u001b[0m\n\u001b[0m\u001b[1;32m   2810\u001b[0m         \u001b[0mexclusive_fp\u001b[0m \u001b[0;34m=\u001b[0m \u001b[0;32mTrue\u001b[0m\u001b[0;34m\u001b[0m\u001b[0;34m\u001b[0m\u001b[0m\n\u001b[1;32m   2811\u001b[0m \u001b[0;34m\u001b[0m\u001b[0m\n",
      "\u001b[0;31mFileNotFoundError\u001b[0m: [Errno 2] No such file or directory: 'images/grizzly.jpg'"
     ]
    }
   ],
   "source": [
    "img = PILImage.create(btn_upload.data[-1])"
   ]
  },
  {
   "cell_type": "markdown",
   "metadata": {
    "id": "E26q2uTc_OOb"
   },
   "source": [
    "<img alt=\"Output widget representing the image\" width=\"117\" src=\"images/att_00009.png\">"
   ]
  },
  {
   "cell_type": "markdown",
   "metadata": {
    "id": "eRd2B7-S_OOc"
   },
   "source": [
    "We can use an `Output` widget to display it:"
   ]
  },
  {
   "cell_type": "code",
   "execution_count": null,
   "metadata": {
    "colab": {
     "base_uri": "https://localhost:8080/",
     "height": 81,
     "referenced_widgets": [
      "1f0cd42c14e348da8c572aa51167bdfa",
      "12aa0e68da2e4ae380286aedab8a13af"
     ]
    },
    "id": "ggWfGn5__OOc",
    "outputId": "4953e735-2fa8-4478-9e28-fa15daaaa28b"
   },
   "outputs": [
    {
     "data": {
      "application/vnd.jupyter.widget-view+json": {
       "model_id": "1f0cd42c14e348da8c572aa51167bdfa",
       "version_major": 2,
       "version_minor": 0
      },
      "text/plain": [
       "Output()"
      ]
     },
     "metadata": {
      "tags": []
     },
     "output_type": "display_data"
    }
   ],
   "source": [
    "#hide_output\n",
    "out_pl = widgets.Output()\n",
    "out_pl.clear_output()\n",
    "with out_pl: display(img.to_thumb(128,128))\n",
    "out_pl"
   ]
  },
  {
   "cell_type": "markdown",
   "metadata": {
    "id": "9U4ylmJh_OOc"
   },
   "source": [
    "<img alt=\"Output widget representing the image\" width=\"117\" src=\"images/att_00009.png\">\n",
    "\n",
    "Then we can get our predictions:"
   ]
  },
  {
   "cell_type": "code",
   "execution_count": null,
   "metadata": {
    "colab": {
     "base_uri": "https://localhost:8080/",
     "height": 17
    },
    "id": "bRoLawY8_OOd",
    "outputId": "b3ce8f1d-f2c7-4377-ab47-c2bf83c8957d"
   },
   "outputs": [
    {
     "data": {
      "text/html": [],
      "text/plain": [
       "<IPython.core.display.HTML object>"
      ]
     },
     "metadata": {
      "tags": []
     },
     "output_type": "display_data"
    }
   ],
   "source": [
    "pred,pred_idx,probs = learn_inf.predict(img)"
   ]
  },
  {
   "cell_type": "markdown",
   "metadata": {
    "id": "aW4gtpf9_OOe"
   },
   "source": [
    "and use a `Label` to display them:"
   ]
  },
  {
   "cell_type": "code",
   "execution_count": null,
   "metadata": {
    "colab": {
     "base_uri": "https://localhost:8080/",
     "height": 49,
     "referenced_widgets": [
      "94154db5055c4836baeed5a7ec9a95c7",
      "61f3599798ca440aa26ed4ae6f6ad0fa",
      "7257dd570a754520b7b4d716dfbc2d68"
     ]
    },
    "id": "W6vykgv0_OOe",
    "outputId": "1513968d-6d4b-43d2-d3d4-63441fa6625d"
   },
   "outputs": [
    {
     "data": {
      "application/vnd.jupyter.widget-view+json": {
       "model_id": "94154db5055c4836baeed5a7ec9a95c7",
       "version_major": 2,
       "version_minor": 0
      },
      "text/plain": [
       "Label(value='Prediction: rhinoceros ; Probability: 0.5684')"
      ]
     },
     "metadata": {
      "tags": []
     },
     "output_type": "display_data"
    }
   ],
   "source": [
    "#hide_output\n",
    "lbl_pred = widgets.Label()\n",
    "lbl_pred.value = f'Prediction: {pred}; Probability: {probs[pred_idx]:.04f}'\n",
    "lbl_pred"
   ]
  },
  {
   "cell_type": "markdown",
   "metadata": {
    "id": "qcrRUN58_OOf"
   },
   "source": [
    "`Prediction: grizzly; Probability: 1.0000`\n",
    "\n",
    "We'll need a button to do the classification. It looks exactly like the upload button:"
   ]
  },
  {
   "cell_type": "code",
   "execution_count": null,
   "metadata": {
    "colab": {
     "base_uri": "https://localhost:8080/",
     "height": 49,
     "referenced_widgets": [
      "c12c09c355044da8bd083322f48eec9d",
      "8c8c3b0100d5414fbe00c5d021dea7f7",
      "2f4c42116dc94b3db0fde835bfcf6819"
     ]
    },
    "id": "XD4Sr844_OOf",
    "outputId": "bf022891-bf1f-4e2e-b68d-5caf4d6fae78"
   },
   "outputs": [
    {
     "data": {
      "application/vnd.jupyter.widget-view+json": {
       "model_id": "c12c09c355044da8bd083322f48eec9d",
       "version_major": 2,
       "version_minor": 0
      },
      "text/plain": [
       "Button(description='Classify', style=ButtonStyle())"
      ]
     },
     "metadata": {
      "tags": []
     },
     "output_type": "display_data"
    }
   ],
   "source": [
    "#hide_output\n",
    "btn_run = widgets.Button(description='Classify')\n",
    "btn_run"
   ]
  },
  {
   "cell_type": "markdown",
   "metadata": {
    "id": "hQLrdX3f_OOg"
   },
   "source": [
    "We'll also need a *click event handler*; that is, a function that will be called when it's pressed. We can just copy over the lines of code from above:"
   ]
  },
  {
   "cell_type": "code",
   "execution_count": null,
   "metadata": {
    "id": "pAqLEyI3_OOg"
   },
   "outputs": [],
   "source": [
    "def on_click_classify(change):\n",
    "    img = PILImage.create(btn_upload.data[-1])\n",
    "    out_pl.clear_output()\n",
    "    with out_pl: display(img.to_thumb(128,128))\n",
    "    pred,pred_idx,probs = learn_inf.predict(img)\n",
    "    lbl_pred.value = f'Prediction: {pred}; Probability: {probs[pred_idx]:.04f}'\n",
    "\n",
    "btn_run.on_click(on_click_classify)"
   ]
  },
  {
   "cell_type": "markdown",
   "metadata": {
    "id": "5CT9H3E5_OOh"
   },
   "source": [
    "You can test the button now by pressing it, and you should see the image and predictions update automatically!\n",
    "\n",
    "We can now put them all in a vertical box (`VBox`) to complete our GUI:"
   ]
  },
  {
   "cell_type": "code",
   "execution_count": null,
   "metadata": {
    "id": "He_VidH8_OOh"
   },
   "outputs": [],
   "source": [
    "#hide\n",
    "#Putting back btn_upload to a widget for next cell\n",
    "btn_upload = widgets.FileUpload()"
   ]
  },
  {
   "cell_type": "code",
   "execution_count": null,
   "metadata": {
    "colab": {
     "base_uri": "https://localhost:8080/",
     "height": 273,
     "referenced_widgets": [
      "3ebdb399d7454d1f9d9d4d1eefb07056",
      "1c476607d2b24e4f9d40a31b74bb404e",
      "e335a711162545b9a6852f18c6fa3923",
      "140ee217d3214210bd20d31473d6bd95",
      "c12c09c355044da8bd083322f48eec9d",
      "15a323a0c8334f2e878c41750fb42df9",
      "f05dc58fcbf64398b6ca1a9d2801cb16",
      "7580ab688b9a4bf591786cf70a5c8eab",
      "2c6e150e3ae1492a8d243ee862fe1a51",
      "b548a67cd67447a98f3a5bc2cedba52b",
      "0e0ff4da919e459c83a00ee8abfde1f3",
      "8c8c3b0100d5414fbe00c5d021dea7f7",
      "2f4c42116dc94b3db0fde835bfcf6819",
      "7d2d9265729449c0a7bcf8b6b6570a3f",
      "22ae1ced67ec4fad8d39feb32b09d2b0",
      "dcccdfba2bb54e4681fdd453ca9dc094"
     ]
    },
    "id": "OS26z4MK_OOi",
    "outputId": "a35d6038-d74b-40eb-9440-274cab081e4a"
   },
   "outputs": [
    {
     "data": {
      "application/vnd.jupyter.widget-view+json": {
       "model_id": "3ebdb399d7454d1f9d9d4d1eefb07056",
       "version_major": 2,
       "version_minor": 0
      },
      "text/plain": [
       "VBox(children=(Label(value='Select your bear!'), FileUpload(value={}, description='Upload'), Button(descriptio…"
      ]
     },
     "metadata": {
      "tags": []
     },
     "output_type": "display_data"
    },
    {
     "data": {
      "text/html": [],
      "text/plain": [
       "<IPython.core.display.HTML object>"
      ]
     },
     "metadata": {
      "tags": []
     },
     "output_type": "display_data"
    }
   ],
   "source": [
    "#hide_output\n",
    "VBox([widgets.Label('Select your bear!'), \n",
    "      btn_upload, btn_run, out_pl, lbl_pred])"
   ]
  },
  {
   "cell_type": "markdown",
   "metadata": {
    "id": "dHy8-1R4_OOi"
   },
   "source": [
    "<img alt=\"The whole widget\" width=\"233\" src=\"images/att_00011.png\">"
   ]
  },
  {
   "cell_type": "markdown",
   "metadata": {
    "id": "OY4fAGg9_OOj"
   },
   "source": [
    "We have written all the code necessary for our app. The next step is to convert it into something we can deploy."
   ]
  },
  {
   "cell_type": "markdown",
   "metadata": {
    "id": "TIkb7LzA_OOj"
   },
   "source": [
    "### Turning Your Notebook into a Real App"
   ]
  },
  {
   "cell_type": "code",
   "execution_count": null,
   "metadata": {
    "colab": {
     "base_uri": "https://localhost:8080/",
     "height": 1000
    },
    "id": "kdWDqyMF_OOk",
    "outputId": "18c3ea46-2582-4dbc-e2f8-428191e46595"
   },
   "outputs": [
    {
     "name": "stdout",
     "output_type": "stream",
     "text": [
      "Collecting voila\n",
      "\u001b[?25l  Downloading https://files.pythonhosted.org/packages/50/7d/ef470f3d3c574162bb8705b264f4cb47eac8c923f6bf1e37283f871ead6a/voila-0.2.4-py3-none-any.whl (1.9MB)\n",
      "\u001b[K     |████████████████████████████████| 1.9MB 12.0MB/s \n",
      "\u001b[?25hCollecting jupyter-server<2.0.0,>=0.3.0\n",
      "\u001b[?25l  Downloading https://files.pythonhosted.org/packages/17/df/387061ea6da3e499c17bd4c58a94273227f1e7aec627e680ae088a949aaa/jupyter_server-1.1.1-py3-none-any.whl (229kB)\n",
      "\u001b[K     |████████████████████████████████| 235kB 50.3MB/s \n",
      "\u001b[?25hCollecting nbconvert<7,>=6.0.0\n",
      "\u001b[?25l  Downloading https://files.pythonhosted.org/packages/13/2f/acbe7006548f3914456ee47f97a2033b1b2f3daf921b12ac94105d87c163/nbconvert-6.0.7-py3-none-any.whl (552kB)\n",
      "\u001b[K     |████████████████████████████████| 552kB 50.9MB/s \n",
      "\u001b[?25hRequirement already satisfied: nbclient<0.6,>=0.4.0 in /usr/local/lib/python3.6/dist-packages (from voila) (0.5.1)\n",
      "Collecting jupyter-client<7,>=6.1.3\n",
      "\u001b[?25l  Downloading https://files.pythonhosted.org/packages/dc/41/9fa443d5ae8907dd8f7d12146cb0092dc053afd67b5b57e7e8786a328547/jupyter_client-6.1.7-py3-none-any.whl (108kB)\n",
      "\u001b[K     |████████████████████████████████| 112kB 53.3MB/s \n",
      "\u001b[?25hRequirement already satisfied: ipython-genutils in /usr/local/lib/python3.6/dist-packages (from jupyter-server<2.0.0,>=0.3.0->voila) (0.2.0)\n",
      "Requirement already satisfied: nbformat in /usr/local/lib/python3.6/dist-packages (from jupyter-server<2.0.0,>=0.3.0->voila) (5.0.8)\n",
      "Requirement already satisfied: jinja2 in /usr/local/lib/python3.6/dist-packages (from jupyter-server<2.0.0,>=0.3.0->voila) (2.11.2)\n",
      "Requirement already satisfied: terminado>=0.8.3 in /usr/local/lib/python3.6/dist-packages (from jupyter-server<2.0.0,>=0.3.0->voila) (0.9.1)\n",
      "Requirement already satisfied: prometheus-client in /usr/local/lib/python3.6/dist-packages (from jupyter-server<2.0.0,>=0.3.0->voila) (0.9.0)\n",
      "Requirement already satisfied: Send2Trash in /usr/local/lib/python3.6/dist-packages (from jupyter-server<2.0.0,>=0.3.0->voila) (1.5.0)\n",
      "Collecting anyio>=2.0.2\n",
      "\u001b[?25l  Downloading https://files.pythonhosted.org/packages/d7/83/0585a2bafc0898a07f491a001520db9a7b1aaca2369f99590ff2bfe9067a/anyio-2.0.2-py3-none-any.whl (62kB)\n",
      "\u001b[K     |████████████████████████████████| 71kB 11.0MB/s \n",
      "\u001b[?25hRequirement already satisfied: traitlets>=4.2.1 in /usr/local/lib/python3.6/dist-packages (from jupyter-server<2.0.0,>=0.3.0->voila) (4.3.3)\n",
      "Requirement already satisfied: jupyter-core>=4.4.0 in /usr/local/lib/python3.6/dist-packages (from jupyter-server<2.0.0,>=0.3.0->voila) (4.7.0)\n",
      "Requirement already satisfied: pyzmq>=17 in /usr/local/lib/python3.6/dist-packages (from jupyter-server<2.0.0,>=0.3.0->voila) (20.0.0)\n",
      "Collecting tornado>=6.1.0\n",
      "\u001b[?25l  Downloading https://files.pythonhosted.org/packages/85/26/e710295dcb4aac62b08f22d07efc899574476db37532159a7f71713cdaf2/tornado-6.1-cp36-cp36m-manylinux2010_x86_64.whl (427kB)\n",
      "\u001b[K     |████████████████████████████████| 430kB 52.1MB/s \n",
      "\u001b[?25hRequirement already satisfied: testpath in /usr/local/lib/python3.6/dist-packages (from nbconvert<7,>=6.0.0->voila) (0.4.4)\n",
      "Requirement already satisfied: jupyterlab-pygments in /usr/local/lib/python3.6/dist-packages (from nbconvert<7,>=6.0.0->voila) (0.1.2)\n",
      "Requirement already satisfied: entrypoints>=0.2.2 in /usr/local/lib/python3.6/dist-packages (from nbconvert<7,>=6.0.0->voila) (0.3)\n",
      "Requirement already satisfied: defusedxml in /usr/local/lib/python3.6/dist-packages (from nbconvert<7,>=6.0.0->voila) (0.6.0)\n",
      "Requirement already satisfied: mistune<2,>=0.8.1 in /usr/local/lib/python3.6/dist-packages (from nbconvert<7,>=6.0.0->voila) (0.8.4)\n",
      "Requirement already satisfied: bleach in /usr/local/lib/python3.6/dist-packages (from nbconvert<7,>=6.0.0->voila) (3.2.1)\n",
      "Requirement already satisfied: pygments>=2.4.1 in /usr/local/lib/python3.6/dist-packages (from nbconvert<7,>=6.0.0->voila) (2.6.1)\n",
      "Requirement already satisfied: pandocfilters>=1.4.1 in /usr/local/lib/python3.6/dist-packages (from nbconvert<7,>=6.0.0->voila) (1.4.3)\n",
      "Requirement already satisfied: async-generator in /usr/local/lib/python3.6/dist-packages (from nbclient<0.6,>=0.4.0->voila) (1.10)\n",
      "Requirement already satisfied: nest-asyncio in /usr/local/lib/python3.6/dist-packages (from nbclient<0.6,>=0.4.0->voila) (1.4.3)\n",
      "Requirement already satisfied: python-dateutil>=2.1 in /usr/local/lib/python3.6/dist-packages (from jupyter-client<7,>=6.1.3->voila) (2.8.1)\n",
      "Requirement already satisfied: jsonschema!=2.5.0,>=2.4 in /usr/local/lib/python3.6/dist-packages (from nbformat->jupyter-server<2.0.0,>=0.3.0->voila) (2.6.0)\n",
      "Requirement already satisfied: MarkupSafe>=0.23 in /usr/local/lib/python3.6/dist-packages (from jinja2->jupyter-server<2.0.0,>=0.3.0->voila) (1.1.1)\n",
      "Requirement already satisfied: ptyprocess; os_name != \"nt\" in /usr/local/lib/python3.6/dist-packages (from terminado>=0.8.3->jupyter-server<2.0.0,>=0.3.0->voila) (0.6.0)\n",
      "Requirement already satisfied: idna>=2.8 in /usr/local/lib/python3.6/dist-packages (from anyio>=2.0.2->jupyter-server<2.0.0,>=0.3.0->voila) (2.10)\n",
      "Collecting sniffio>=1.1\n",
      "  Downloading https://files.pythonhosted.org/packages/52/b0/7b2e028b63d092804b6794595871f936aafa5e9322dcaaad50ebf67445b3/sniffio-1.2.0-py3-none-any.whl\n",
      "Requirement already satisfied: dataclasses; python_version < \"3.7\" in /usr/local/lib/python3.6/dist-packages (from anyio>=2.0.2->jupyter-server<2.0.0,>=0.3.0->voila) (0.8)\n",
      "Requirement already satisfied: typing-extensions; python_version < \"3.8\" in /usr/local/lib/python3.6/dist-packages (from anyio>=2.0.2->jupyter-server<2.0.0,>=0.3.0->voila) (3.7.4.3)\n",
      "Requirement already satisfied: six in /usr/local/lib/python3.6/dist-packages (from traitlets>=4.2.1->jupyter-server<2.0.0,>=0.3.0->voila) (1.15.0)\n",
      "Requirement already satisfied: decorator in /usr/local/lib/python3.6/dist-packages (from traitlets>=4.2.1->jupyter-server<2.0.0,>=0.3.0->voila) (4.4.2)\n",
      "Requirement already satisfied: packaging in /usr/local/lib/python3.6/dist-packages (from bleach->nbconvert<7,>=6.0.0->voila) (20.8)\n",
      "Requirement already satisfied: webencodings in /usr/local/lib/python3.6/dist-packages (from bleach->nbconvert<7,>=6.0.0->voila) (0.5.1)\n",
      "Collecting contextvars>=2.1; python_version < \"3.7\"\n",
      "  Downloading https://files.pythonhosted.org/packages/83/96/55b82d9f13763be9d672622e1b8106c85acb83edd7cc2fa5bc67cd9877e9/contextvars-2.4.tar.gz\n",
      "Requirement already satisfied: pyparsing>=2.0.2 in /usr/local/lib/python3.6/dist-packages (from packaging->bleach->nbconvert<7,>=6.0.0->voila) (2.4.7)\n",
      "Collecting immutables>=0.9\n",
      "\u001b[?25l  Downloading https://files.pythonhosted.org/packages/99/e0/ea6fd4697120327d26773b5a84853f897a68e33d3f9376b00a8ff96e4f63/immutables-0.14-cp36-cp36m-manylinux1_x86_64.whl (98kB)\n",
      "\u001b[K     |████████████████████████████████| 102kB 10.8MB/s \n",
      "\u001b[?25hBuilding wheels for collected packages: contextvars\n",
      "  Building wheel for contextvars (setup.py) ... \u001b[?25l\u001b[?25hdone\n",
      "  Created wheel for contextvars: filename=contextvars-2.4-cp36-none-any.whl size=7667 sha256=00c739c6ce777ca9e6346d29dced056228450323d73388b78ee448dfd0acd03c\n",
      "  Stored in directory: /root/.cache/pip/wheels/a5/7d/68/1ebae2668bda2228686e3c1cf16f2c2384cea6e9334ad5f6de\n",
      "Successfully built contextvars\n",
      "\u001b[31mERROR: nbdev 1.1.5 has requirement nbconvert<6, but you'll have nbconvert 6.0.7 which is incompatible.\u001b[0m\n",
      "\u001b[31mERROR: google-colab 1.0.0 has requirement tornado~=5.1.0; python_version >= \"3.0\", but you'll have tornado 6.1 which is incompatible.\u001b[0m\n",
      "Installing collected packages: tornado, jupyter-client, nbconvert, immutables, contextvars, sniffio, anyio, jupyter-server, voila\n",
      "  Found existing installation: tornado 5.1.1\n",
      "    Uninstalling tornado-5.1.1:\n",
      "      Successfully uninstalled tornado-5.1.1\n",
      "  Found existing installation: jupyter-client 5.3.5\n",
      "    Uninstalling jupyter-client-5.3.5:\n",
      "      Successfully uninstalled jupyter-client-5.3.5\n",
      "  Found existing installation: nbconvert 5.6.1\n",
      "    Uninstalling nbconvert-5.6.1:\n",
      "      Successfully uninstalled nbconvert-5.6.1\n",
      "Successfully installed anyio-2.0.2 contextvars-2.4 immutables-0.14 jupyter-client-6.1.7 jupyter-server-1.1.1 nbconvert-6.0.7 sniffio-1.2.0 tornado-6.1 voila-0.2.4\n"
     ]
    },
    {
     "data": {
      "application/vnd.colab-display-data+json": {
       "pip_warning": {
        "packages": [
         "jupyter_client",
         "nbconvert",
         "tornado"
        ]
       }
      }
     },
     "metadata": {
      "tags": []
     },
     "output_type": "display_data"
    },
    {
     "name": "stdout",
     "output_type": "stream",
     "text": [
      "Enabling: voila\n",
      "- Writing config: /usr/etc/jupyter\n",
      "    - Validating...\n",
      "Error loading server extension voila\n",
      "     \u001b[31m X\u001b[0m is voila importable?\n"
     ]
    }
   ],
   "source": [
    "#hide\n",
    "!pip install voila\n",
    "!jupyter serverextension enable --sys-prefix voila "
   ]
  },
  {
   "cell_type": "markdown",
   "metadata": {
    "id": "2BjQDmC5_OOk"
   },
   "source": [
    "### Deploying your app"
   ]
  },
  {
   "cell_type": "markdown",
   "metadata": {
    "id": "8gHZelEx_OOs"
   },
   "source": [
    "### Further Research"
   ]
  },
  {
   "cell_type": "markdown",
   "metadata": {
    "id": "-OqAUNmF_OOs"
   },
   "source": [
    "1. Consider how the Drivetrain Approach maps to a project or problem you're interested in.\n",
    "1. When might it be best to avoid certain types of data augmentation?\n",
    "1. For a project you're interested in applying deep learning to, consider the thought experiment \"What would happen if it went really, really well?\"\n",
    "1. Start a blog, and write your first blog post. For instance, write about what you think deep learning might be useful for in a domain you're interested in."
   ]
  },
  {
   "cell_type": "code",
   "execution_count": null,
   "metadata": {
    "id": "NU4THYRk_OOt"
   },
   "outputs": [],
   "source": []
  }
 ],
 "metadata": {
  "accelerator": "GPU",
  "colab": {
   "collapsed_sections": [
    "rfjQXa3r_ON7",
    "OAgKwBaC_ON7",
    "GuFCTW1o_ON-",
    "i3R_e6Np_OOH",
    "_xZxJQJk_OOJ",
    "B2WfmAw3_OOR",
    "iWfy2_8O_OOS",
    "23Y3QCXx_OOY",
    "TIkb7LzA_OOj",
    "2BjQDmC5_OOk",
    "CKGNbxx1_OOn",
    "G6xdkzz0_OOp",
    "ZOdRMRB8_OOq",
    "_jZGWF5L_OOr",
    "8gHZelEx_OOs"
   ],
   "name": "big5ModelBuilderV4.ipynb",
   "provenance": [],
   "toc_visible": true
  },
  "jupytext": {
   "split_at_heading": true
  },
  "kernelspec": {
   "display_name": "Python 3",
   "language": "python",
   "name": "python3"
  },
  "language_info": {
   "codemirror_mode": {
    "name": "ipython",
    "version": 3
   },
   "file_extension": ".py",
   "mimetype": "text/x-python",
   "name": "python",
   "nbconvert_exporter": "python",
   "pygments_lexer": "ipython3",
   "version": "3.7.7"
  },
  "widgets": {
   "application/vnd.jupyter.widget-state+json": {
    "0349706381e143b68fe5b428d9044a79": {
     "model_module": "@jupyter-widgets/base",
     "model_name": "LayoutModel",
     "state": {
      "_model_module": "@jupyter-widgets/base",
      "_model_module_version": "1.2.0",
      "_model_name": "LayoutModel",
      "_view_count": null,
      "_view_module": "@jupyter-widgets/base",
      "_view_module_version": "1.2.0",
      "_view_name": "LayoutView",
      "align_content": null,
      "align_items": null,
      "align_self": null,
      "border": null,
      "bottom": null,
      "display": null,
      "flex": null,
      "flex_flow": null,
      "grid_area": null,
      "grid_auto_columns": null,
      "grid_auto_flow": null,
      "grid_auto_rows": null,
      "grid_column": null,
      "grid_gap": null,
      "grid_row": null,
      "grid_template_areas": null,
      "grid_template_columns": null,
      "grid_template_rows": null,
      "height": null,
      "justify_content": null,
      "justify_items": null,
      "left": null,
      "margin": null,
      "max_height": null,
      "max_width": null,
      "min_height": null,
      "min_width": null,
      "object_fit": null,
      "object_position": null,
      "order": null,
      "overflow": null,
      "overflow_x": null,
      "overflow_y": null,
      "padding": null,
      "right": null,
      "top": null,
      "visibility": null,
      "width": null
     }
    },
    "0ce989f31bba4f95a4fb86c413ba96a2": {
     "model_module": "@jupyter-widgets/base",
     "model_name": "LayoutModel",
     "state": {
      "_model_module": "@jupyter-widgets/base",
      "_model_module_version": "1.2.0",
      "_model_name": "LayoutModel",
      "_view_count": null,
      "_view_module": "@jupyter-widgets/base",
      "_view_module_version": "1.2.0",
      "_view_name": "LayoutView",
      "align_content": null,
      "align_items": null,
      "align_self": null,
      "border": null,
      "bottom": null,
      "display": null,
      "flex": null,
      "flex_flow": null,
      "grid_area": null,
      "grid_auto_columns": null,
      "grid_auto_flow": null,
      "grid_auto_rows": null,
      "grid_column": null,
      "grid_gap": null,
      "grid_row": null,
      "grid_template_areas": null,
      "grid_template_columns": null,
      "grid_template_rows": null,
      "height": null,
      "justify_content": null,
      "justify_items": null,
      "left": null,
      "margin": null,
      "max_height": null,
      "max_width": null,
      "min_height": null,
      "min_width": null,
      "object_fit": null,
      "object_position": null,
      "order": null,
      "overflow": null,
      "overflow_x": null,
      "overflow_y": null,
      "padding": null,
      "right": null,
      "top": null,
      "visibility": null,
      "width": null
     }
    },
    "0e0ff4da919e459c83a00ee8abfde1f3": {
     "model_module": "@jupyter-widgets/base",
     "model_name": "LayoutModel",
     "state": {
      "_model_module": "@jupyter-widgets/base",
      "_model_module_version": "1.2.0",
      "_model_name": "LayoutModel",
      "_view_count": null,
      "_view_module": "@jupyter-widgets/base",
      "_view_module_version": "1.2.0",
      "_view_name": "LayoutView",
      "align_content": null,
      "align_items": null,
      "align_self": null,
      "border": null,
      "bottom": null,
      "display": null,
      "flex": null,
      "flex_flow": null,
      "grid_area": null,
      "grid_auto_columns": null,
      "grid_auto_flow": null,
      "grid_auto_rows": null,
      "grid_column": null,
      "grid_gap": null,
      "grid_row": null,
      "grid_template_areas": null,
      "grid_template_columns": null,
      "grid_template_rows": null,
      "height": null,
      "justify_content": null,
      "justify_items": null,
      "left": null,
      "margin": null,
      "max_height": null,
      "max_width": null,
      "min_height": null,
      "min_width": null,
      "object_fit": null,
      "object_position": null,
      "order": null,
      "overflow": null,
      "overflow_x": null,
      "overflow_y": null,
      "padding": null,
      "right": null,
      "top": null,
      "visibility": null,
      "width": null
     }
    },
    "12aa0e68da2e4ae380286aedab8a13af": {
     "model_module": "@jupyter-widgets/base",
     "model_name": "LayoutModel",
     "state": {
      "_model_module": "@jupyter-widgets/base",
      "_model_module_version": "1.2.0",
      "_model_name": "LayoutModel",
      "_view_count": null,
      "_view_module": "@jupyter-widgets/base",
      "_view_module_version": "1.2.0",
      "_view_name": "LayoutView",
      "align_content": null,
      "align_items": null,
      "align_self": null,
      "border": null,
      "bottom": null,
      "display": null,
      "flex": null,
      "flex_flow": null,
      "grid_area": null,
      "grid_auto_columns": null,
      "grid_auto_flow": null,
      "grid_auto_rows": null,
      "grid_column": null,
      "grid_gap": null,
      "grid_row": null,
      "grid_template_areas": null,
      "grid_template_columns": null,
      "grid_template_rows": null,
      "height": null,
      "justify_content": null,
      "justify_items": null,
      "left": null,
      "margin": null,
      "max_height": null,
      "max_width": null,
      "min_height": null,
      "min_width": null,
      "object_fit": null,
      "object_position": null,
      "order": null,
      "overflow": null,
      "overflow_x": null,
      "overflow_y": null,
      "padding": null,
      "right": null,
      "top": null,
      "visibility": null,
      "width": null
     }
    },
    "140ee217d3214210bd20d31473d6bd95": {
     "model_module": "@jupyter-widgets/controls",
     "model_name": "FileUploadModel",
     "state": {
      "_counter": 1,
      "_dom_classes": [],
      "_model_module": "@jupyter-widgets/controls",
      "_model_module_version": "1.5.0",
      "_model_name": "FileUploadModel",
      "_view_count": null,
      "_view_module": "@jupyter-widgets/controls",
      "_view_module_version": "1.5.0",
      "_view_name": "FileUploadView",
      "accept": "",
      "button_style": "",
      "data": [
       null
      ],
      "description": "Upload",
      "description_tooltip": null,
      "disabled": false,
      "error": "",
      "icon": "upload",
      "layout": "IPY_MODEL_0e0ff4da919e459c83a00ee8abfde1f3",
      "metadata": [
       {
        "lastModified": 1608412178608,
        "name": "garfield.png",
        "size": 13411,
        "type": "image/png"
       }
      ],
      "multiple": false,
      "style": "IPY_MODEL_b548a67cd67447a98f3a5bc2cedba52b"
     }
    },
    "15a323a0c8334f2e878c41750fb42df9": {
     "model_module": "@jupyter-widgets/output",
     "model_name": "OutputModel",
     "state": {
      "_dom_classes": [],
      "_model_module": "@jupyter-widgets/output",
      "_model_module_version": "1.0.0",
      "_model_name": "OutputModel",
      "_view_count": null,
      "_view_module": "@jupyter-widgets/output",
      "_view_module_version": "1.0.0",
      "_view_name": "OutputView",
      "layout": "IPY_MODEL_dcccdfba2bb54e4681fdd453ca9dc094",
      "msg_id": "",
      "outputs": [
       {
        "image/png": "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\n",
        "metadata": {
         "tags": []
        },
        "output_type": "display_data",
        "text/plain": "<PIL.Image.Image image mode=RGB size=82x128 at 0x7FB28061FF98>"
       }
      ]
     }
    },
    "1c476607d2b24e4f9d40a31b74bb404e": {
     "model_module": "@jupyter-widgets/base",
     "model_name": "LayoutModel",
     "state": {
      "_model_module": "@jupyter-widgets/base",
      "_model_module_version": "1.2.0",
      "_model_name": "LayoutModel",
      "_view_count": null,
      "_view_module": "@jupyter-widgets/base",
      "_view_module_version": "1.2.0",
      "_view_name": "LayoutView",
      "align_content": null,
      "align_items": null,
      "align_self": null,
      "border": null,
      "bottom": null,
      "display": null,
      "flex": null,
      "flex_flow": null,
      "grid_area": null,
      "grid_auto_columns": null,
      "grid_auto_flow": null,
      "grid_auto_rows": null,
      "grid_column": null,
      "grid_gap": null,
      "grid_row": null,
      "grid_template_areas": null,
      "grid_template_columns": null,
      "grid_template_rows": null,
      "height": null,
      "justify_content": null,
      "justify_items": null,
      "left": null,
      "margin": null,
      "max_height": null,
      "max_width": null,
      "min_height": null,
      "min_width": null,
      "object_fit": null,
      "object_position": null,
      "order": null,
      "overflow": null,
      "overflow_x": null,
      "overflow_y": null,
      "padding": null,
      "right": null,
      "top": null,
      "visibility": null,
      "width": null
     }
    },
    "1f0cd42c14e348da8c572aa51167bdfa": {
     "model_module": "@jupyter-widgets/output",
     "model_name": "OutputModel",
     "state": {
      "_dom_classes": [],
      "_model_module": "@jupyter-widgets/output",
      "_model_module_version": "1.0.0",
      "_model_name": "OutputModel",
      "_view_count": null,
      "_view_module": "@jupyter-widgets/output",
      "_view_module_version": "1.0.0",
      "_view_name": "OutputView",
      "layout": "IPY_MODEL_12aa0e68da2e4ae380286aedab8a13af",
      "msg_id": "",
      "outputs": [
       {
        "image/png": "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\n",
        "metadata": {
         "tags": []
        },
        "output_type": "display_data",
        "text/plain": "<PIL.Image.Image image mode=RGB size=128x64 at 0x7FB9CDC3F850>"
       }
      ]
     }
    },
    "22ae1ced67ec4fad8d39feb32b09d2b0": {
     "model_module": "@jupyter-widgets/base",
     "model_name": "LayoutModel",
     "state": {
      "_model_module": "@jupyter-widgets/base",
      "_model_module_version": "1.2.0",
      "_model_name": "LayoutModel",
      "_view_count": null,
      "_view_module": "@jupyter-widgets/base",
      "_view_module_version": "1.2.0",
      "_view_name": "LayoutView",
      "align_content": null,
      "align_items": null,
      "align_self": null,
      "border": null,
      "bottom": null,
      "display": null,
      "flex": null,
      "flex_flow": null,
      "grid_area": null,
      "grid_auto_columns": null,
      "grid_auto_flow": null,
      "grid_auto_rows": null,
      "grid_column": null,
      "grid_gap": null,
      "grid_row": null,
      "grid_template_areas": null,
      "grid_template_columns": null,
      "grid_template_rows": null,
      "height": null,
      "justify_content": null,
      "justify_items": null,
      "left": null,
      "margin": null,
      "max_height": null,
      "max_width": null,
      "min_height": null,
      "min_width": null,
      "object_fit": null,
      "object_position": null,
      "order": null,
      "overflow": null,
      "overflow_x": null,
      "overflow_y": null,
      "padding": null,
      "right": null,
      "top": null,
      "visibility": null,
      "width": null
     }
    },
    "2c6e150e3ae1492a8d243ee862fe1a51": {
     "model_module": "@jupyter-widgets/base",
     "model_name": "LayoutModel",
     "state": {
      "_model_module": "@jupyter-widgets/base",
      "_model_module_version": "1.2.0",
      "_model_name": "LayoutModel",
      "_view_count": null,
      "_view_module": "@jupyter-widgets/base",
      "_view_module_version": "1.2.0",
      "_view_name": "LayoutView",
      "align_content": null,
      "align_items": null,
      "align_self": null,
      "border": null,
      "bottom": null,
      "display": null,
      "flex": null,
      "flex_flow": null,
      "grid_area": null,
      "grid_auto_columns": null,
      "grid_auto_flow": null,
      "grid_auto_rows": null,
      "grid_column": null,
      "grid_gap": null,
      "grid_row": null,
      "grid_template_areas": null,
      "grid_template_columns": null,
      "grid_template_rows": null,
      "height": null,
      "justify_content": null,
      "justify_items": null,
      "left": null,
      "margin": null,
      "max_height": null,
      "max_width": null,
      "min_height": null,
      "min_width": null,
      "object_fit": null,
      "object_position": null,
      "order": null,
      "overflow": null,
      "overflow_x": null,
      "overflow_y": null,
      "padding": null,
      "right": null,
      "top": null,
      "visibility": null,
      "width": null
     }
    },
    "2f4c42116dc94b3db0fde835bfcf6819": {
     "model_module": "@jupyter-widgets/base",
     "model_name": "LayoutModel",
     "state": {
      "_model_module": "@jupyter-widgets/base",
      "_model_module_version": "1.2.0",
      "_model_name": "LayoutModel",
      "_view_count": null,
      "_view_module": "@jupyter-widgets/base",
      "_view_module_version": "1.2.0",
      "_view_name": "LayoutView",
      "align_content": null,
      "align_items": null,
      "align_self": null,
      "border": null,
      "bottom": null,
      "display": null,
      "flex": null,
      "flex_flow": null,
      "grid_area": null,
      "grid_auto_columns": null,
      "grid_auto_flow": null,
      "grid_auto_rows": null,
      "grid_column": null,
      "grid_gap": null,
      "grid_row": null,
      "grid_template_areas": null,
      "grid_template_columns": null,
      "grid_template_rows": null,
      "height": null,
      "justify_content": null,
      "justify_items": null,
      "left": null,
      "margin": null,
      "max_height": null,
      "max_width": null,
      "min_height": null,
      "min_width": null,
      "object_fit": null,
      "object_position": null,
      "order": null,
      "overflow": null,
      "overflow_x": null,
      "overflow_y": null,
      "padding": null,
      "right": null,
      "top": null,
      "visibility": null,
      "width": null
     }
    },
    "335d6da5b76841c6992ae1f95b12749b": {
     "model_module": "@jupyter-widgets/base",
     "model_name": "LayoutModel",
     "state": {
      "_model_module": "@jupyter-widgets/base",
      "_model_module_version": "1.2.0",
      "_model_name": "LayoutModel",
      "_view_count": null,
      "_view_module": "@jupyter-widgets/base",
      "_view_module_version": "1.2.0",
      "_view_name": "LayoutView",
      "align_content": null,
      "align_items": null,
      "align_self": null,
      "border": null,
      "bottom": null,
      "display": null,
      "flex": null,
      "flex_flow": null,
      "grid_area": null,
      "grid_auto_columns": null,
      "grid_auto_flow": null,
      "grid_auto_rows": null,
      "grid_column": null,
      "grid_gap": null,
      "grid_row": null,
      "grid_template_areas": null,
      "grid_template_columns": null,
      "grid_template_rows": null,
      "height": null,
      "justify_content": null,
      "justify_items": null,
      "left": null,
      "margin": null,
      "max_height": null,
      "max_width": null,
      "min_height": null,
      "min_width": null,
      "object_fit": null,
      "object_position": null,
      "order": null,
      "overflow": null,
      "overflow_x": null,
      "overflow_y": null,
      "padding": null,
      "right": null,
      "top": null,
      "visibility": null,
      "width": null
     }
    },
    "3ebdb399d7454d1f9d9d4d1eefb07056": {
     "model_module": "@jupyter-widgets/controls",
     "model_name": "VBoxModel",
     "state": {
      "_dom_classes": [],
      "_model_module": "@jupyter-widgets/controls",
      "_model_module_version": "1.5.0",
      "_model_name": "VBoxModel",
      "_view_count": null,
      "_view_module": "@jupyter-widgets/controls",
      "_view_module_version": "1.5.0",
      "_view_name": "VBoxView",
      "box_style": "",
      "children": [
       "IPY_MODEL_e335a711162545b9a6852f18c6fa3923",
       "IPY_MODEL_140ee217d3214210bd20d31473d6bd95",
       "IPY_MODEL_c12c09c355044da8bd083322f48eec9d",
       "IPY_MODEL_15a323a0c8334f2e878c41750fb42df9",
       "IPY_MODEL_f05dc58fcbf64398b6ca1a9d2801cb16"
      ],
      "layout": "IPY_MODEL_1c476607d2b24e4f9d40a31b74bb404e"
     }
    },
    "4f1a598cf8f84acc8ede00a9eec2bbfb": {
     "model_module": "@jupyter-widgets/controls",
     "model_name": "HTMLModel",
     "state": {
      "_dom_classes": [],
      "_model_module": "@jupyter-widgets/controls",
      "_model_module_version": "1.5.0",
      "_model_name": "HTMLModel",
      "_view_count": null,
      "_view_module": "@jupyter-widgets/controls",
      "_view_module_version": "1.5.0",
      "_view_name": "HTMLView",
      "description": "",
      "description_tooltip": null,
      "layout": "IPY_MODEL_335d6da5b76841c6992ae1f95b12749b",
      "placeholder": "​",
      "style": "IPY_MODEL_efb489dce09d475c8ce33bc4522c0591",
      "value": " 83.3M/83.3M [00:36&lt;00:00, 2.37MB/s]"
     }
    },
    "5f97909986864a3f8172be9ff21721c6": {
     "model_module": "@jupyter-widgets/controls",
     "model_name": "FloatProgressModel",
     "state": {
      "_dom_classes": [],
      "_model_module": "@jupyter-widgets/controls",
      "_model_module_version": "1.5.0",
      "_model_name": "FloatProgressModel",
      "_view_count": null,
      "_view_module": "@jupyter-widgets/controls",
      "_view_module_version": "1.5.0",
      "_view_name": "ProgressView",
      "bar_style": "success",
      "description": "100%",
      "description_tooltip": null,
      "layout": "IPY_MODEL_0ce989f31bba4f95a4fb86c413ba96a2",
      "max": 87306240,
      "min": 0,
      "orientation": "horizontal",
      "style": "IPY_MODEL_eebf73693215493d98be5c5f25b4efd1",
      "value": 87306240
     }
    },
    "61f3599798ca440aa26ed4ae6f6ad0fa": {
     "model_module": "@jupyter-widgets/controls",
     "model_name": "DescriptionStyleModel",
     "state": {
      "_model_module": "@jupyter-widgets/controls",
      "_model_module_version": "1.5.0",
      "_model_name": "DescriptionStyleModel",
      "_view_count": null,
      "_view_module": "@jupyter-widgets/base",
      "_view_module_version": "1.2.0",
      "_view_name": "StyleView",
      "description_width": ""
     }
    },
    "6209b79a83b140dabab1162e75d96036": {
     "model_module": "@jupyter-widgets/controls",
     "model_name": "HBoxModel",
     "state": {
      "_dom_classes": [],
      "_model_module": "@jupyter-widgets/controls",
      "_model_module_version": "1.5.0",
      "_model_name": "HBoxModel",
      "_view_count": null,
      "_view_module": "@jupyter-widgets/controls",
      "_view_module_version": "1.5.0",
      "_view_name": "HBoxView",
      "box_style": "",
      "children": [
       "IPY_MODEL_5f97909986864a3f8172be9ff21721c6",
       "IPY_MODEL_4f1a598cf8f84acc8ede00a9eec2bbfb"
      ],
      "layout": "IPY_MODEL_720d9ccf6c74401bb3a0b1c461d68ef3"
     }
    },
    "702e52273d124689935a9b152bb0c007": {
     "model_module": "@jupyter-widgets/controls",
     "model_name": "FileUploadModel",
     "state": {
      "_counter": 2,
      "_dom_classes": [],
      "_model_module": "@jupyter-widgets/controls",
      "_model_module_version": "1.5.0",
      "_model_name": "FileUploadModel",
      "_view_count": null,
      "_view_module": "@jupyter-widgets/controls",
      "_view_module_version": "1.5.0",
      "_view_name": "FileUploadView",
      "accept": "",
      "button_style": "",
      "data": [
       null
      ],
      "description": "Upload",
      "description_tooltip": null,
      "disabled": false,
      "error": "",
      "icon": "upload",
      "layout": "IPY_MODEL_0349706381e143b68fe5b428d9044a79",
      "metadata": [
       {
        "lastModified": 1614962292454,
        "name": "beagle.jpeg",
        "size": 6381,
        "type": "image/jpeg"
       }
      ],
      "multiple": false,
      "style": "IPY_MODEL_d6e5d0e7e17b42d083139a7ddc97d90b"
     }
    },
    "720d9ccf6c74401bb3a0b1c461d68ef3": {
     "model_module": "@jupyter-widgets/base",
     "model_name": "LayoutModel",
     "state": {
      "_model_module": "@jupyter-widgets/base",
      "_model_module_version": "1.2.0",
      "_model_name": "LayoutModel",
      "_view_count": null,
      "_view_module": "@jupyter-widgets/base",
      "_view_module_version": "1.2.0",
      "_view_name": "LayoutView",
      "align_content": null,
      "align_items": null,
      "align_self": null,
      "border": null,
      "bottom": null,
      "display": null,
      "flex": null,
      "flex_flow": null,
      "grid_area": null,
      "grid_auto_columns": null,
      "grid_auto_flow": null,
      "grid_auto_rows": null,
      "grid_column": null,
      "grid_gap": null,
      "grid_row": null,
      "grid_template_areas": null,
      "grid_template_columns": null,
      "grid_template_rows": null,
      "height": null,
      "justify_content": null,
      "justify_items": null,
      "left": null,
      "margin": null,
      "max_height": null,
      "max_width": null,
      "min_height": null,
      "min_width": null,
      "object_fit": null,
      "object_position": null,
      "order": null,
      "overflow": null,
      "overflow_x": null,
      "overflow_y": null,
      "padding": null,
      "right": null,
      "top": null,
      "visibility": null,
      "width": null
     }
    },
    "7257dd570a754520b7b4d716dfbc2d68": {
     "model_module": "@jupyter-widgets/base",
     "model_name": "LayoutModel",
     "state": {
      "_model_module": "@jupyter-widgets/base",
      "_model_module_version": "1.2.0",
      "_model_name": "LayoutModel",
      "_view_count": null,
      "_view_module": "@jupyter-widgets/base",
      "_view_module_version": "1.2.0",
      "_view_name": "LayoutView",
      "align_content": null,
      "align_items": null,
      "align_self": null,
      "border": null,
      "bottom": null,
      "display": null,
      "flex": null,
      "flex_flow": null,
      "grid_area": null,
      "grid_auto_columns": null,
      "grid_auto_flow": null,
      "grid_auto_rows": null,
      "grid_column": null,
      "grid_gap": null,
      "grid_row": null,
      "grid_template_areas": null,
      "grid_template_columns": null,
      "grid_template_rows": null,
      "height": null,
      "justify_content": null,
      "justify_items": null,
      "left": null,
      "margin": null,
      "max_height": null,
      "max_width": null,
      "min_height": null,
      "min_width": null,
      "object_fit": null,
      "object_position": null,
      "order": null,
      "overflow": null,
      "overflow_x": null,
      "overflow_y": null,
      "padding": null,
      "right": null,
      "top": null,
      "visibility": null,
      "width": null
     }
    },
    "7580ab688b9a4bf591786cf70a5c8eab": {
     "model_module": "@jupyter-widgets/controls",
     "model_name": "DescriptionStyleModel",
     "state": {
      "_model_module": "@jupyter-widgets/controls",
      "_model_module_version": "1.5.0",
      "_model_name": "DescriptionStyleModel",
      "_view_count": null,
      "_view_module": "@jupyter-widgets/base",
      "_view_module_version": "1.2.0",
      "_view_name": "StyleView",
      "description_width": ""
     }
    },
    "7d2d9265729449c0a7bcf8b6b6570a3f": {
     "model_module": "@jupyter-widgets/controls",
     "model_name": "DescriptionStyleModel",
     "state": {
      "_model_module": "@jupyter-widgets/controls",
      "_model_module_version": "1.5.0",
      "_model_name": "DescriptionStyleModel",
      "_view_count": null,
      "_view_module": "@jupyter-widgets/base",
      "_view_module_version": "1.2.0",
      "_view_name": "StyleView",
      "description_width": ""
     }
    },
    "8c8c3b0100d5414fbe00c5d021dea7f7": {
     "model_module": "@jupyter-widgets/controls",
     "model_name": "ButtonStyleModel",
     "state": {
      "_model_module": "@jupyter-widgets/controls",
      "_model_module_version": "1.5.0",
      "_model_name": "ButtonStyleModel",
      "_view_count": null,
      "_view_module": "@jupyter-widgets/base",
      "_view_module_version": "1.2.0",
      "_view_name": "StyleView",
      "button_color": null,
      "font_weight": ""
     }
    },
    "94154db5055c4836baeed5a7ec9a95c7": {
     "model_module": "@jupyter-widgets/controls",
     "model_name": "LabelModel",
     "state": {
      "_dom_classes": [],
      "_model_module": "@jupyter-widgets/controls",
      "_model_module_version": "1.5.0",
      "_model_name": "LabelModel",
      "_view_count": null,
      "_view_module": "@jupyter-widgets/controls",
      "_view_module_version": "1.5.0",
      "_view_name": "LabelView",
      "description": "",
      "description_tooltip": null,
      "layout": "IPY_MODEL_7257dd570a754520b7b4d716dfbc2d68",
      "placeholder": "​",
      "style": "IPY_MODEL_61f3599798ca440aa26ed4ae6f6ad0fa",
      "value": "Prediction: rhinoceros ; Probability: 0.5684"
     }
    },
    "b548a67cd67447a98f3a5bc2cedba52b": {
     "model_module": "@jupyter-widgets/controls",
     "model_name": "ButtonStyleModel",
     "state": {
      "_model_module": "@jupyter-widgets/controls",
      "_model_module_version": "1.5.0",
      "_model_name": "ButtonStyleModel",
      "_view_count": null,
      "_view_module": "@jupyter-widgets/base",
      "_view_module_version": "1.2.0",
      "_view_name": "StyleView",
      "button_color": null,
      "font_weight": ""
     }
    },
    "c12c09c355044da8bd083322f48eec9d": {
     "model_module": "@jupyter-widgets/controls",
     "model_name": "ButtonModel",
     "state": {
      "_dom_classes": [],
      "_model_module": "@jupyter-widgets/controls",
      "_model_module_version": "1.5.0",
      "_model_name": "ButtonModel",
      "_view_count": null,
      "_view_module": "@jupyter-widgets/controls",
      "_view_module_version": "1.5.0",
      "_view_name": "ButtonView",
      "button_style": "",
      "description": "Classify",
      "disabled": false,
      "icon": "",
      "layout": "IPY_MODEL_2f4c42116dc94b3db0fde835bfcf6819",
      "style": "IPY_MODEL_8c8c3b0100d5414fbe00c5d021dea7f7",
      "tooltip": ""
     }
    },
    "d6e5d0e7e17b42d083139a7ddc97d90b": {
     "model_module": "@jupyter-widgets/controls",
     "model_name": "ButtonStyleModel",
     "state": {
      "_model_module": "@jupyter-widgets/controls",
      "_model_module_version": "1.5.0",
      "_model_name": "ButtonStyleModel",
      "_view_count": null,
      "_view_module": "@jupyter-widgets/base",
      "_view_module_version": "1.2.0",
      "_view_name": "StyleView",
      "button_color": null,
      "font_weight": ""
     }
    },
    "dcccdfba2bb54e4681fdd453ca9dc094": {
     "model_module": "@jupyter-widgets/base",
     "model_name": "LayoutModel",
     "state": {
      "_model_module": "@jupyter-widgets/base",
      "_model_module_version": "1.2.0",
      "_model_name": "LayoutModel",
      "_view_count": null,
      "_view_module": "@jupyter-widgets/base",
      "_view_module_version": "1.2.0",
      "_view_name": "LayoutView",
      "align_content": null,
      "align_items": null,
      "align_self": null,
      "border": null,
      "bottom": null,
      "display": null,
      "flex": null,
      "flex_flow": null,
      "grid_area": null,
      "grid_auto_columns": null,
      "grid_auto_flow": null,
      "grid_auto_rows": null,
      "grid_column": null,
      "grid_gap": null,
      "grid_row": null,
      "grid_template_areas": null,
      "grid_template_columns": null,
      "grid_template_rows": null,
      "height": null,
      "justify_content": null,
      "justify_items": null,
      "left": null,
      "margin": null,
      "max_height": null,
      "max_width": null,
      "min_height": null,
      "min_width": null,
      "object_fit": null,
      "object_position": null,
      "order": null,
      "overflow": null,
      "overflow_x": null,
      "overflow_y": null,
      "padding": null,
      "right": null,
      "top": null,
      "visibility": null,
      "width": null
     }
    },
    "e335a711162545b9a6852f18c6fa3923": {
     "model_module": "@jupyter-widgets/controls",
     "model_name": "LabelModel",
     "state": {
      "_dom_classes": [],
      "_model_module": "@jupyter-widgets/controls",
      "_model_module_version": "1.5.0",
      "_model_name": "LabelModel",
      "_view_count": null,
      "_view_module": "@jupyter-widgets/controls",
      "_view_module_version": "1.5.0",
      "_view_name": "LabelView",
      "description": "",
      "description_tooltip": null,
      "layout": "IPY_MODEL_2c6e150e3ae1492a8d243ee862fe1a51",
      "placeholder": "​",
      "style": "IPY_MODEL_7580ab688b9a4bf591786cf70a5c8eab",
      "value": "Select your bear!"
     }
    },
    "eebf73693215493d98be5c5f25b4efd1": {
     "model_module": "@jupyter-widgets/controls",
     "model_name": "ProgressStyleModel",
     "state": {
      "_model_module": "@jupyter-widgets/controls",
      "_model_module_version": "1.5.0",
      "_model_name": "ProgressStyleModel",
      "_view_count": null,
      "_view_module": "@jupyter-widgets/base",
      "_view_module_version": "1.2.0",
      "_view_name": "StyleView",
      "bar_color": null,
      "description_width": "initial"
     }
    },
    "efb489dce09d475c8ce33bc4522c0591": {
     "model_module": "@jupyter-widgets/controls",
     "model_name": "DescriptionStyleModel",
     "state": {
      "_model_module": "@jupyter-widgets/controls",
      "_model_module_version": "1.5.0",
      "_model_name": "DescriptionStyleModel",
      "_view_count": null,
      "_view_module": "@jupyter-widgets/base",
      "_view_module_version": "1.2.0",
      "_view_name": "StyleView",
      "description_width": ""
     }
    },
    "f05dc58fcbf64398b6ca1a9d2801cb16": {
     "model_module": "@jupyter-widgets/controls",
     "model_name": "LabelModel",
     "state": {
      "_dom_classes": [],
      "_model_module": "@jupyter-widgets/controls",
      "_model_module_version": "1.5.0",
      "_model_name": "LabelModel",
      "_view_count": null,
      "_view_module": "@jupyter-widgets/controls",
      "_view_module_version": "1.5.0",
      "_view_name": "LabelView",
      "description": "",
      "description_tooltip": null,
      "layout": "IPY_MODEL_22ae1ced67ec4fad8d39feb32b09d2b0",
      "placeholder": "​",
      "style": "IPY_MODEL_7d2d9265729449c0a7bcf8b6b6570a3f",
      "value": "Prediction: teddy; Probability: 0.9970"
     }
    }
   }
  }
 },
 "nbformat": 4,
 "nbformat_minor": 4
}
